{
  "nbformat": 4,
  "nbformat_minor": 0,
  "metadata": {
    "colab": {
      "name": "Celsius_To_Fahrenheit_NN.ipynb",
      "version": "0.3.2",
      "provenance": [],
      "include_colab_link": true
    },
    "kernelspec": {
      "name": "python3",
      "display_name": "Python 3"
    },
    "accelerator": "GPU"
  },
  "cells": [
    {
      "cell_type": "markdown",
      "metadata": {
        "id": "view-in-github",
        "colab_type": "text"
      },
      "source": [
        "<a href=\"https://colab.research.google.com/github/nairaanish/tfbeginner/blob/master/Celsius_To_Fahrenheit_NN.ipynb\" target=\"_parent\"><img src=\"https://colab.research.google.com/assets/colab-badge.svg\" alt=\"Open In Colab\"/></a>"
      ]
    },
    {
      "cell_type": "code",
      "metadata": {
        "id": "ErJp28hQbpGb",
        "colab_type": "code",
        "colab": {}
      },
      "source": [
        "#Importing tensorflow and numpy\n",
        "import tensorflow as tf\n",
        "import numpy as np"
      ],
      "execution_count": 0,
      "outputs": []
    },
    {
      "cell_type": "code",
      "metadata": {
        "id": "ekKu7i02bxp0",
        "colab_type": "code",
        "colab": {
          "base_uri": "https://localhost:8080/",
          "height": 170
        },
        "outputId": "1ef4ea34-7eda-4499-82f2-b4427cca7001"
      },
      "source": [
        "#Training data for celsius and fahrenheit\n",
        "celsius_data_train   = np.array([-40, -20, -10,  0,  10, 20, 24,  40,  60],  dtype=float)\n",
        "fahrenheit_data_train = np.array([-40, -4,  14, 32, 50, 68, 75.2, 104, 140],  dtype=float)\n",
        "\n",
        "#Printing the values\n",
        "for i,c in enumerate(celsius_data_train):\n",
        "  print(\"{} in celsius = {} in farenheit\".format(c, fahrenheit_data_train[i]))"
      ],
      "execution_count": 2,
      "outputs": [
        {
          "output_type": "stream",
          "text": [
            "-40.0 in celsius = -40.0 in farenheit\n",
            "-20.0 in celsius = -4.0 in farenheit\n",
            "-10.0 in celsius = 14.0 in farenheit\n",
            "0.0 in celsius = 32.0 in farenheit\n",
            "10.0 in celsius = 50.0 in farenheit\n",
            "20.0 in celsius = 68.0 in farenheit\n",
            "24.0 in celsius = 75.2 in farenheit\n",
            "40.0 in celsius = 104.0 in farenheit\n",
            "60.0 in celsius = 140.0 in farenheit\n"
          ],
          "name": "stdout"
        }
      ]
    },
    {
      "cell_type": "code",
      "metadata": {
        "id": "EJFeIf4jbzcv",
        "colab_type": "code",
        "colab": {
          "base_uri": "https://localhost:8080/",
          "height": 105
        },
        "outputId": "62276b91-1cfa-4121-e7f2-fbe4e710bc2e"
      },
      "source": [
        "#Network layers as Dense Layers\n",
        "l0 = tf.keras.layers.Dense(units = 4, input_shape = [1]) #Layer0 with 4 units and takes input of specified shape\n",
        "l1 = tf.keras.layers.Dense(units = 4) #Layer1 with 4 units\n",
        "l2 = tf.keras.layers.Dense(units = 1) #Layer2 with 1 unit"
      ],
      "execution_count": 3,
      "outputs": [
        {
          "output_type": "stream",
          "text": [
            "WARNING: Logging before flag parsing goes to stderr.\n",
            "W0707 07:57:43.643445 140062187497344 deprecation.py:506] From /usr/local/lib/python3.6/dist-packages/tensorflow/python/ops/init_ops.py:1251: calling VarianceScaling.__init__ (from tensorflow.python.ops.init_ops) with dtype is deprecated and will be removed in a future version.\n",
            "Instructions for updating:\n",
            "Call initializer instance with the dtype argument instead of passing it to the constructor\n"
          ],
          "name": "stderr"
        }
      ]
    },
    {
      "cell_type": "code",
      "metadata": {
        "id": "AQPF4ew-b0tj",
        "colab_type": "code",
        "colab": {}
      },
      "source": [
        "#Neural Network Model\n",
        "model = tf.keras.Sequential([l0,l1,l2])"
      ],
      "execution_count": 0,
      "outputs": []
    },
    {
      "cell_type": "code",
      "metadata": {
        "id": "6-704Isub2LL",
        "colab_type": "code",
        "colab": {}
      },
      "source": [
        "#Specify the model to measure loss as mean squared error and use Adam optimizer with learning rate as 0.1\n",
        "model.compile(loss = 'mean_squared_error', optimizer = tf.keras.optimizers.Adam(0.1))"
      ],
      "execution_count": 0,
      "outputs": []
    },
    {
      "cell_type": "code",
      "metadata": {
        "id": "wRrtMq-Nb3S_",
        "colab_type": "code",
        "colab": {
          "base_uri": "https://localhost:8080/",
          "height": 34
        },
        "outputId": "e3bfe3ea-0246-4875-e772-df6a1f12f30e"
      },
      "source": [
        "#Predicting or training the model\n",
        "model.fit(celsius_data_train, fahrenheit_data_train, epochs = 500, verbose = False)\n",
        "print(\"Training completed\")"
      ],
      "execution_count": 8,
      "outputs": [
        {
          "output_type": "stream",
          "text": [
            "Training completed\n"
          ],
          "name": "stdout"
        }
      ]
    },
    {
      "cell_type": "code",
      "metadata": {
        "id": "HlKDEwsXb4i6",
        "colab_type": "code",
        "colab": {
          "base_uri": "https://localhost:8080/",
          "height": 34
        },
        "outputId": "64160c97-48a9-4736-cbd6-e590b6619076"
      },
      "source": [
        "#Prediction\n",
        "print(\"Model predicts that 100 celsius = {} fahrenheit\".format(model.predict([100.0])))"
      ],
      "execution_count": 9,
      "outputs": [
        {
          "output_type": "stream",
          "text": [
            "Model predicts that 100 celsius = [[212.]] fahrenheit\n"
          ],
          "name": "stdout"
        }
      ]
    },
    {
      "cell_type": "code",
      "metadata": {
        "id": "1K0bSiVSb6KL",
        "colab_type": "code",
        "colab": {
          "base_uri": "https://localhost:8080/",
          "height": 204
        },
        "outputId": "1704ad7d-eace-4e7f-e7cc-e394836375aa"
      },
      "source": [
        "#Weights of the individual layers\n",
        "print(\"Layer 0 = {}\".format(l0.get_weights()))\n",
        "print(\"Layer 1 = {}\".format(l1.get_weights()))\n",
        "print(\"Layer 2 = {}\".format(l2.get_weights()))"
      ],
      "execution_count": 10,
      "outputs": [
        {
          "output_type": "stream",
          "text": [
            "Layer 0 = [array([[-0.33422938, -0.49555954, -0.677379  ,  0.14667912]],\n",
            "      dtype=float32), array([-3.4090304, -3.4079223, -3.4908087, -3.3583405], dtype=float32)]\n",
            "Layer 1 = [array([[-0.8021185 ,  0.83749527, -0.8636344 , -0.37517494],\n",
            "       [ 0.05263579,  0.684402  , -0.73281807,  0.6897469 ],\n",
            "       [-0.7386005 , -0.3697976 , -0.21076308,  0.02060271],\n",
            "       [-0.2822957 ,  0.6647181 , -0.57668644, -0.62549794]],\n",
            "      dtype=float32), array([ 3.2594242, -3.4254858,  3.2872014, -1.3842432], dtype=float32)]\n",
            "Layer 2 = [array([[ 1.2589247 ],\n",
            "       [-0.36235195],\n",
            "       [ 1.1916888 ],\n",
            "       [ 0.08290833]], dtype=float32), array([3.2272732], dtype=float32)]\n"
          ],
          "name": "stdout"
        }
      ]
    },
    {
      "cell_type": "code",
      "metadata": {
        "id": "SOiae-0zcKga",
        "colab_type": "code",
        "colab": {}
      },
      "source": [
        ""
      ],
      "execution_count": 0,
      "outputs": []
    }
  ]
}